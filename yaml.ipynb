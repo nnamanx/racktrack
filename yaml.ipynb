{
 "cells": [
  {
   "cell_type": "code",
   "execution_count": 2,
   "id": "fbea4a65-a8d5-4e8b-90fc-2b5899013989",
   "metadata": {},
   "outputs": [
    {
     "name": "stdout",
     "output_type": "stream",
     "text": [
      "Converted YAML saved to data_converted.yaml\n"
     ]
    }
   ],
   "source": [
    "import yaml\n",
    "\n",
    "# Load the source YAML file\n",
    "def load_yaml(file_path):\n",
    "    with open(file_path, 'r') as file:\n",
    "        return yaml.safe_load(file)\n",
    "\n",
    "# Save the desired YAML file\n",
    "def save_yaml(data, file_path):\n",
    "    with open(file_path, 'w') as file:\n",
    "        yaml.dump(data, file, default_flow_style=False)\n",
    "\n",
    "# Convert the data.yaml format to desired.yaml format\n",
    "def convert_yaml_format(source_path, target_path):\n",
    "    data = load_yaml(source_path)\n",
    "\n",
    "    # Convert names list to the desired dictionary format\n",
    "    names_dict = {i: name for i, name in enumerate(data['names'])}\n",
    "\n",
    "    # Create the new dictionary\n",
    "    desired_format = {\n",
    "        'names': names_dict,\n",
    "        'path': '.',\n",
    "        'train': 'train.txt',\n",
    "    }\n",
    "\n",
    "    # Save the new YAML format\n",
    "    save_yaml(desired_format, target_path)\n",
    "\n",
    "# File paths\n",
    "source_file = 'data.yaml'\n",
    "target_file = 'data_converted.yaml'\n",
    "\n",
    "# Perform the conversion\n",
    "convert_yaml_format(source_file, target_file)\n",
    "\n",
    "print(f\"Converted YAML saved to {target_file}\")"
   ]
  }
 ],
 "metadata": {
  "kernelspec": {
   "display_name": "Python 3 (ipykernel)",
   "language": "python",
   "name": "python3"
  },
  "language_info": {
   "codemirror_mode": {
    "name": "ipython",
    "version": 3
   },
   "file_extension": ".py",
   "mimetype": "text/x-python",
   "name": "python",
   "nbconvert_exporter": "python",
   "pygments_lexer": "ipython3",
   "version": "3.11.7"
  }
 },
 "nbformat": 4,
 "nbformat_minor": 5
}
