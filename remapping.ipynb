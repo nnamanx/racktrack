{
 "cells": [
  {
   "cell_type": "code",
   "execution_count": 1,
   "id": "fe72c0ec-1fc0-42b2-a5c3-3e81258d2599",
   "metadata": {},
   "outputs": [
    {
     "name": "stdout",
     "output_type": "stream",
     "text": [
      "Label 'RLY' (index 13) not in desired labels. It will be excluded.\n",
      "Label 'RMY' (index 14) not in desired labels. It will be excluded.\n",
      "Label 'RLR' (index 16) not in desired labels. It will be excluded.\n",
      "Label 'RMR' (index 17) not in desired labels. It will be excluded.\n",
      "Label 'SR' (index 23) not in desired labels. It will be excluded.\n",
      "Label 'PMPL' (index 36) not in desired labels. It will be excluded.\n",
      "Label 'GRLG' (index 52) not in desired labels. It will be excluded.\n",
      "Label remapping completed.\n"
     ]
    }
   ],
   "source": [
    "import os\n",
    "import yaml\n",
    "\n",
    "# Load the original and desired labels from the YAML files\n",
    "with open('./data.yaml', 'r') as file:\n",
    "    original_data = yaml.safe_load(file)\n",
    "\n",
    "with open('./desired.yaml', 'r') as file:\n",
    "    desired_data = yaml.safe_load(file)\n",
    "\n",
    "# Extract labels from YAML files as dictionaries with integer keys\n",
    "original_label_dict = {int(k): v for k, v in original_data['names'].items()}\n",
    "desired_label_dict = {int(k): v for k, v in desired_data['names'].items()}\n",
    "\n",
    "# Create reverse mappings: label name -> index\n",
    "original_name_to_index = {v: k for k, v in original_label_dict.items()}\n",
    "desired_name_to_index = {v: k for k, v in desired_label_dict.items()}\n",
    "\n",
    "# Create a mapping from original label indices to desired label indices based on label names\n",
    "label_index_mapping = {}\n",
    "for orig_index, label_name in original_label_dict.items():\n",
    "    if label_name in desired_name_to_index:\n",
    "        desired_index = desired_name_to_index[label_name]\n",
    "        label_index_mapping[orig_index] = desired_index\n",
    "    else:\n",
    "        # I skip labels not present in desired.yaml\n",
    "        print(f\"Label '{label_name}' (index {orig_index}) not in desired labels. It will be excluded.\")\n",
    "        # Optionally, map to a default index or handle as needed\n",
    "        # label_index_mapping[orig_index] = default_index\n",
    "\n",
    "# Directory containing annotation files\n",
    "annotations_dir = './labels/train/'\n",
    "\n",
    "# Get all .txt files in the annotations directory\n",
    "annotation_files = [os.path.join(annotations_dir, f) for f in os.listdir(annotations_dir) if f.endswith('.txt')]\n",
    "\n",
    "def remap_labels(file_path):\n",
    "    with open(file_path, 'r') as file:\n",
    "        lines = file.readlines()\n",
    "\n",
    "    remapped_lines = []\n",
    "    for line in lines:\n",
    "        parts = line.strip().split()\n",
    "        if len(parts) < 5:\n",
    "            # Line doesn't have enough parts, skip it\n",
    "            print(f\"Invalid line in file '{file_path}': {line.strip()}\")\n",
    "            continue\n",
    "        label_index = int(parts[0])\n",
    "        if label_index in label_index_mapping:\n",
    "            new_label_index = label_index_mapping[label_index]\n",
    "            parts[0] = str(new_label_index)\n",
    "            remapped_line = \" \".join(parts)\n",
    "            remapped_lines.append(remapped_line)\n",
    "        else:\n",
    "            # If the label index is not in the mapping, exclude the line or handle as needed\n",
    "            print(f\"Label index {label_index} not in mapping for file '{file_path}'. Line will be excluded.\")\n",
    "            # Optionally, keep the original line or map to a default index\n",
    "            # remapped_lines.append(line.strip())\n",
    "\n",
    "    # Write the remapped lines back to the file\n",
    "    with open(file_path, 'w') as file:\n",
    "        file.write(\"\\n\".join(remapped_lines))\n",
    "\n",
    "# Apply remapping to all annotation files\n",
    "for file_path in annotation_files:\n",
    "    remap_labels(file_path)\n",
    "\n",
    "print(\"Label remapping completed.\")"
   ]
  },
  {
   "cell_type": "code",
   "execution_count": null,
   "id": "9e8a2712-ebb3-4cd4-af3e-185f65769c4b",
   "metadata": {},
   "outputs": [],
   "source": []
  }
 ],
 "metadata": {
  "kernelspec": {
   "display_name": "Python 3 (ipykernel)",
   "language": "python",
   "name": "python3"
  },
  "language_info": {
   "codemirror_mode": {
    "name": "ipython",
    "version": 3
   },
   "file_extension": ".py",
   "mimetype": "text/x-python",
   "name": "python",
   "nbconvert_exporter": "python",
   "pygments_lexer": "ipython3",
   "version": "3.11.7"
  }
 },
 "nbformat": 4,
 "nbformat_minor": 5
}
