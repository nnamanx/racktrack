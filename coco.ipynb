{
 "cells": [
  {
   "cell_type": "code",
   "execution_count": 1,
   "id": "92c221c6-519a-44ea-8a10-969cfcf71f61",
   "metadata": {},
   "outputs": [
    {
     "name": "stdout",
     "output_type": "stream",
     "text": [
      "YOLO annotations saved in /Users/laman/Desktop/coco/labels\n"
     ]
    }
   ],
   "source": [
    "import json\n",
    "import os\n",
    "\n",
    "# Paths\n",
    "coco_json_path = \"/Users/laman/Desktop/coco/task_ayan done_4_annotations_2025_01_02_11_35_27_coco 1.0.json\"\n",
    "output_dir = \"/Users/laman/Desktop/coco/labels\"\n",
    "images_dir = \"/Users/laman/Desktop/coco/imgs\"\n",
    "\n",
    "# Load COCO JSON\n",
    "with open(coco_json_path, 'r') as f:\n",
    "    coco_data = json.load(f)\n",
    "\n",
    "# Create directories\n",
    "os.makedirs(output_dir, exist_ok=True)\n",
    "labels_dir = os.path.join(output_dir, \"labels\")\n",
    "os.makedirs(labels_dir, exist_ok=True)\n",
    "\n",
    "# Build dict for quick lookup: image_id -> (filename, width, height)\n",
    "image_info = {}\n",
    "for img in coco_data[\"images\"]:\n",
    "    image_info[img[\"id\"]] = {\n",
    "        \"file_name\": img[\"file_name\"],\n",
    "        \"width\": img[\"width\"],      # get the actual width\n",
    "        \"height\": img[\"height\"]     # get the actual height\n",
    "    }\n",
    "\n",
    "# Build dict for category id -> category name\n",
    "categories = {}\n",
    "for cat in coco_data[\"categories\"]:\n",
    "    categories[cat[\"id\"]] = cat[\"name\"]\n",
    "\n",
    "# Process annotations\n",
    "for ann in coco_data[\"annotations\"]:\n",
    "    image_id = ann[\"image_id\"]\n",
    "    category_id = ann[\"category_id\"]\n",
    "    bbox = ann[\"bbox\"]  # in COCO format: [x_min, y_min, width, height]\n",
    "\n",
    "    # Retrieve actual image width & height\n",
    "    img_w = image_info[image_id][\"width\"]\n",
    "    img_h = image_info[image_id][\"height\"]\n",
    "\n",
    "    # Convert COCO -> YOLO\n",
    "    x_min, y_min, w, h = bbox\n",
    "    x_center = x_min + w / 2.0\n",
    "    y_center = y_min + h / 2.0\n",
    "\n",
    "    # Normalize\n",
    "    x_center /= img_w\n",
    "    y_center /= img_h\n",
    "    w /= img_w\n",
    "    h /= img_h\n",
    "\n",
    "    # YOLO expects: class x_center y_center width height\n",
    "    # Usually YOLO class indices are zero-based; COCO cat ids might not be\n",
    "    yolo_class_id = category_id - 1  # or another mapping if needed\n",
    "\n",
    "    # Write to .txt file\n",
    "    image_name = image_info[image_id][\"file_name\"]\n",
    "    txt_file_name = os.path.splitext(image_name)[0] + \".txt\"\n",
    "    txt_path = os.path.join(labels_dir, txt_file_name)\n",
    "    with open(txt_path, 'a') as f_txt:\n",
    "        f_txt.write(f\"{yolo_class_id} {x_center:.6f} {y_center:.6f} {w:.6f} {h:.6f}\\n\")\n",
    "\n",
    "# Create a data.yaml\n",
    "classes = [categories[k] for k in sorted(categories.keys())]\n",
    "with open(os.path.join(output_dir, \"data.yaml\"), 'w') as yaml_file:\n",
    "    yaml_file.write(f\"train: {images_dir}\\n\")\n",
    "    yaml_file.write(f\"val: {images_dir}\\n\")\n",
    "    yaml_file.write(f\"nc: {len(classes)}\\n\")\n",
    "    yaml_file.write(f\"names: {classes}\\n\")\n",
    "\n",
    "print(f\"YOLO annotations saved in {output_dir}\")\n"
   ]
  }
 ],
 "metadata": {
  "kernelspec": {
   "display_name": "Python 3 (ipykernel)",
   "language": "python",
   "name": "python3"
  },
  "language_info": {
   "codemirror_mode": {
    "name": "ipython",
    "version": 3
   },
   "file_extension": ".py",
   "mimetype": "text/x-python",
   "name": "python",
   "nbconvert_exporter": "python",
   "pygments_lexer": "ipython3",
   "version": "3.11.7"
  }
 },
 "nbformat": 4,
 "nbformat_minor": 5
}
